{
 "cells": [
  {
   "cell_type": "code",
   "id": "ed81b61d-f249-47fe-b85b-641a9967a58b",
   "metadata": {
    "ExecuteTime": {
     "end_time": "2025-03-20T15:10:54.313081Z",
     "start_time": "2025-03-20T15:10:53.739238Z"
    }
   },
   "source": [
    "import pandas\n",
    "import numpy as np\n",
    "import matplotlib.pyplot as plt\n",
    "import math\n",
    "\n",
    "data = pandas.read_csv(\"Data/WeatherData_Q3.csv\")\n",
    "\n",
    "plt.figure(figsize=(8, 6))\n",
    "\n",
    "\n",
    "frame = pandas.DataFrame(data)\n",
    "rain = frame.loc[frame[\"rain\"]==1]\n",
    "nah = frame.loc[frame[\"rain\"]==0]\n",
    "plt.scatter(rain.temp, rain.humid,color='blue')\n",
    "plt.scatter(nah.temp, nah.humid,color='red')"
   ],
   "outputs": [
    {
     "name": "stdout",
     "output_type": "stream",
     "text": [
      "Unexpected exception formatting exception. Falling back to standard exception\n"
     ]
    },
    {
     "name": "stderr",
     "output_type": "stream",
     "text": [
      "Traceback (most recent call last):\n",
      "  File \"/Users/chris/Library/CloudStorage/OneDrive-WilfridLaurierUniversity/A Course Work/Classes/CP468/Group work/A2/.venv/lib/python3.12/site-packages/IPython/core/interactiveshell.py\", line 3549, in run_code\n",
      "  File \"/var/folders/xb/nf_tz605633gkhbg117f2jlc0000gn/T/ipykernel_4421/2867062501.py\", line 6, in <module>\n",
      "    data = pandas.read_csv(\"Data/WeatherData_Q3.csv\")\n",
      "           ^^^^^^^^^^^^^^^^^^^^^^^^^^^^^^^^^^^^^^^^^^\n",
      "  File \"/Users/chris/Library/CloudStorage/OneDrive-WilfridLaurierUniversity/A Course Work/Classes/CP468/Group work/A2/.venv/lib/python3.12/site-packages/pandas/io/parsers/readers.py\", line 1026, in read_csv\n",
      "  File \"/Users/chris/Library/CloudStorage/OneDrive-WilfridLaurierUniversity/A Course Work/Classes/CP468/Group work/A2/.venv/lib/python3.12/site-packages/pandas/io/parsers/readers.py\", line 620, in _read\n",
      "  File \"/Users/chris/Library/CloudStorage/OneDrive-WilfridLaurierUniversity/A Course Work/Classes/CP468/Group work/A2/.venv/lib/python3.12/site-packages/pandas/io/parsers/readers.py\", line 1620, in __init__\n",
      "  File \"/Users/chris/Library/CloudStorage/OneDrive-WilfridLaurierUniversity/A Course Work/Classes/CP468/Group work/A2/.venv/lib/python3.12/site-packages/pandas/io/parsers/readers.py\", line 1898, in _make_engine\n",
      "  File \"/Users/chris/Library/CloudStorage/OneDrive-WilfridLaurierUniversity/A Course Work/Classes/CP468/Group work/A2/.venv/lib/python3.12/site-packages/pandas/io/parsers/c_parser_wrapper.py\", line 93, in __init__\n",
      "  File \"parsers.pyx\", line 581, in pandas._libs.parsers.TextReader.__cinit__\n",
      "pandas.errors.EmptyDataError: No columns to parse from file\n",
      "\n",
      "During handling of the above exception, another exception occurred:\n",
      "\n",
      "Traceback (most recent call last):\n",
      "  File \"/Users/chris/Library/CloudStorage/OneDrive-WilfridLaurierUniversity/A Course Work/Classes/CP468/Group work/A2/.venv/lib/python3.12/site-packages/pygments/styles/__init__.py\", line 51, in get_style_by_name\n",
      "AttributeError: module 'pygments.styles.default' has no attribute 'DefaultStyle'\n",
      "\n",
      "During handling of the above exception, another exception occurred:\n",
      "\n",
      "Traceback (most recent call last):\n",
      "  File \"/Users/chris/Library/CloudStorage/OneDrive-WilfridLaurierUniversity/A Course Work/Classes/CP468/Group work/A2/.venv/lib/python3.12/site-packages/IPython/core/interactiveshell.py\", line 2173, in showtraceback\n",
      "  File \"/Users/chris/Library/CloudStorage/OneDrive-WilfridLaurierUniversity/A Course Work/Classes/CP468/Group work/A2/.venv/lib/python3.12/site-packages/IPython/core/ultratb.py\", line 1182, in structured_traceback\n",
      "  File \"/Users/chris/Library/CloudStorage/OneDrive-WilfridLaurierUniversity/A Course Work/Classes/CP468/Group work/A2/.venv/lib/python3.12/site-packages/IPython/core/ultratb.py\", line 1053, in structured_traceback\n",
      "  File \"/Users/chris/Library/CloudStorage/OneDrive-WilfridLaurierUniversity/A Course Work/Classes/CP468/Group work/A2/.venv/lib/python3.12/site-packages/IPython/core/ultratb.py\", line 861, in structured_traceback\n",
      "  File \"/Users/chris/Library/CloudStorage/OneDrive-WilfridLaurierUniversity/A Course Work/Classes/CP468/Group work/A2/.venv/lib/python3.12/site-packages/IPython/core/ultratb.py\", line 745, in format_exception_as_a_whole\n",
      "  File \"/Users/chris/Library/CloudStorage/OneDrive-WilfridLaurierUniversity/A Course Work/Classes/CP468/Group work/A2/.venv/lib/python3.12/site-packages/IPython/core/ultratb.py\", line 684, in prepare_header\n",
      "  File \"/Users/chris/Library/CloudStorage/OneDrive-WilfridLaurierUniversity/A Course Work/Classes/CP468/Group work/A2/.venv/lib/python3.12/site-packages/IPython/utils/PyColorize.py\", line 64, in format\n",
      "  File \"/Users/chris/Library/CloudStorage/OneDrive-WilfridLaurierUniversity/A Course Work/Classes/CP468/Group work/A2/.venv/lib/python3.12/site-packages/IPython/utils/PyColorize.py\", line 54, in as_pygments_style\n",
      "  File \"/Users/chris/Library/CloudStorage/OneDrive-WilfridLaurierUniversity/A Course Work/Classes/CP468/Group work/A2/.venv/lib/python3.12/site-packages/pygments/styles/__init__.py\", line 53, in get_style_by_name\n",
      "pygments.util.ClassNotFound: Could not find style class 'DefaultStyle' in style module.\n"
     ]
    }
   ],
   "execution_count": 7
  },
  {
   "cell_type": "code",
   "execution_count": null,
   "id": "2a81e552-dae3-4943-bc39-e297b8668f57",
   "metadata": {},
   "outputs": [],
   "source": []
  }
 ],
 "metadata": {
  "kernelspec": {
   "display_name": "Python 3 (ipykernel)",
   "language": "python",
   "name": "python3"
  },
  "language_info": {
   "codemirror_mode": {
    "name": "ipython",
    "version": 3
   },
   "file_extension": ".py",
   "mimetype": "text/x-python",
   "name": "python",
   "nbconvert_exporter": "python",
   "pygments_lexer": "ipython3",
   "version": "3.12.7"
  }
 },
 "nbformat": 4,
 "nbformat_minor": 5
}
