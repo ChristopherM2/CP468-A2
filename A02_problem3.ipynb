{
 "cells": [
  {
   "cell_type": "code",
   "id": "ed81b61d-f249-47fe-b85b-641a9967a58b",
   "metadata": {
    "ExecuteTime": {
     "end_time": "2025-03-20T21:18:53.834842Z",
     "start_time": "2025-03-20T21:18:53.732852Z"
    }
   },
   "source": [
    "import pandas\n",
    "import numpy as np\n",
    "import matplotlib.pyplot as plt\n",
    "import math\n",
    "\n",
    "data = pandas.read_csv(\"Data/WeatherData_Q3.csv\")\n",
    "\n",
    "plt.figure(figsize=(8, 6))\n",
    "\n",
    "\n",
    "frame = pandas.DataFrame(data)\n",
    "rain = frame.loc[frame[\"rain\"]==1]\n",
    "nah = frame.loc[frame[\"rain\"]==0]\n",
    "plt.scatter(rain.temp, rain.humid,color='red',label='Rainfall')\n",
    "plt.scatter(nah.temp, nah.humid,color='blue',label='No rain')\n",
    "plt.xlabel('Temperature')\n",
    "plt.ylabel('Humidity')\n",
    "plt.legend()\n",
    "\n",
    "#random weights/bias to start\n",
    "w = np.random.rand(2)# between 0 and 1\n",
    "reset_kinda_ish = int(np.random.rand()*300)\n",
    "np.random.seed(421)\n",
    "w[0]-=.5\n",
    "w[1]-=.5 # makes it between -.5 and .5\n",
    "print(w)\n",
    "b = np.random.rand(1)\n",
    "frame = frame.sample(frac=1)#shuffle shuffle baby\n",
    "np.random.seed(reset_kinda_ish)\n",
    "train = frame.sample(frac=0.75)#for 20 data points this is 15 for one and 5 left behind\n",
    "test = frame.drop(train.index)\n",
    "x = frame[['temp',\"humid\"]].values # array of temp and humid values.\n",
    "y = frame[['rain']].values # output or predictor\n",
    "\n",
    "\n",
    "\n",
    "def perceive(meow):\n",
    "    return 1 if meow >= 0 else 0\n",
    "times = 10 # number of times to run through the data\n",
    "# the data is so clearly distinct I set it to only run once so there may be an occasional error otherwise its beautiful. Set to ten for like perfection\n",
    "rate = .1\n",
    "for _ in range(times):\n",
    "    for i in range(len(x)):# uses every data set\n",
    "        woof = np.dot(w, x[i])+b\n",
    "        #print(woof, perceive(woof))\n",
    "        y_pred = perceive(woof)\n",
    "        error = y[i] - y_pred\n",
    "\n",
    "        w += rate*error*x[i]\n",
    "        b+= rate*error\n",
    "\n",
    "\n",
    "\n",
    "test['predicted'] = test.apply(lambda dota: perceive(np.dot(w, [dota['temp'], dota['humid']]) + b), axis=1)\n",
    "print(\"The following conditions were not trained, rain was the expected output, predicted was the output, in my testing they almost always matched:\")\n",
    "print(test)\n"
   ],
   "outputs": [
    {
     "name": "stdout",
     "output_type": "stream",
     "text": [
      "[ 0.39144247 -0.41368834]\n",
      "The following conditions were not trained, rain was the expected output, predicted was the output, in my testing they almost always matched:\n",
      "    temp  humid  rain  predicted\n",
      "9   0.38   0.35     0          0\n",
      "2   0.22   0.25     0          0\n",
      "8   0.20   0.32     0          0\n",
      "16  0.80   0.88     1          1\n",
      "12  0.75   0.82     1          1\n"
     ]
    },
    {
     "data": {
      "text/plain": [
       "<Figure size 800x600 with 1 Axes>"
      ],
      "image/png": "[encoded data removed]"
     },
     "metadata": {},
     "output_type": "display_data"
    }
   ],
   "execution_count": 21
  },
  {
   "cell_type": "code",
   "id": "2a81e552-dae3-4943-bc39-e297b8668f57",
   "metadata": {
    "ExecuteTime": {
     "end_time": "2025-03-20T21:18:53.841866Z",
     "start_time": "2025-03-20T21:18:53.839864Z"
    }
   },
   "source": [],
   "outputs": [],
   "execution_count": null
  }
 ],
 "metadata": {
  "kernelspec": {
   "display_name": "Python 3 (ipykernel)",
   "language": "python",
   "name": "python3"
  },
  "language_info": {
   "codemirror_mode": {
    "name": "ipython",
    "version": 3
   },
   "file_extension": ".py",
   "mimetype": "text/x-python",
   "name": "python",
   "nbconvert_exporter": "python",
   "pygments_lexer": "ipython3",
   "version": "3.12.7"
  }
 },
 "nbformat": 4,
 "nbformat_minor": 5
}
